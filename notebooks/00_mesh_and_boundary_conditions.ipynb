{
 "cells": [
  {
   "cell_type": "code",
   "execution_count": 1,
   "metadata": {},
   "outputs": [],
   "source": [
    "from espuma import Case_Directory, Boundary_Probe\n",
    "from espuma.base import Dict_File\n",
    "from espuma_utils import to_numeric\n",
    "\n",
    "import pyvista as pv\n",
    "import matplotlib.pyplot as plt\n",
    "\n",
    "from pathlib import Path\n",
    "import numpy as np\n",
    "from pprint import pprint\n",
    "\n",
    "try:\n",
    "    NOTEBOOK_NAME = __file__\n",
    "except NameError:\n",
    "    NOTEBOOK_NAME = __vsc_ipynb_file__ #noqa: F821 #type: ignore\n"
   ]
  },
  {
   "cell_type": "code",
   "execution_count": 2,
   "metadata": {},
   "outputs": [],
   "source": [
    "pv.set_jupyter_backend('static')\n",
    "pv.start_xvfb()\n",
    "\n",
    "plt.style.use('./matplotlib_style/edwin.mplstyle')"
   ]
  },
  {
   "cell_type": "code",
   "execution_count": 3,
   "metadata": {},
   "outputs": [],
   "source": [
    "## Clone case from the template\n",
    "of_case = Case_Directory(\"CASES_fit_experimental/rhox_0010__kappa_1.00e-11\")"
   ]
  },
  {
   "cell_type": "code",
   "execution_count": 4,
   "metadata": {},
   "outputs": [
    {
     "name": "stdout",
     "output_type": "stream",
     "text": [
      "blockMesh finished successfully!\n"
     ]
    }
   ],
   "source": [
    "## Create mesh\n",
    "of_case._blockMesh()\n",
    "\n",
    "## Quick snapshot of the computational domain\n",
    "reader= of_case.get_vtk_reader()\n",
    "mesh = reader.read()\n",
    "internalMesh = mesh['internalMesh']"
   ]
  },
  {
   "cell_type": "code",
   "execution_count": 5,
   "metadata": {},
   "outputs": [],
   "source": [
    "xmin, xmax, ymin, ymax, zmin, zmax = internalMesh.bounds\n",
    "ypad = -0.03"
   ]
  },
  {
   "cell_type": "code",
   "execution_count": 6,
   "metadata": {},
   "outputs": [
    {
     "data": {
      "image/png": "[encoded data removed]",
      "text/plain": [
       "<PIL.Image.Image image mode=RGB size=400x600>"
      ]
     },
     "metadata": {},
     "output_type": "display_data"
    }
   ],
   "source": [
    "plotter = pv.Plotter()\n",
    "plotter.add_mesh(internalMesh.scale([1,0.5,1]).translate((0,0,-0.6)), style=\"wireframe\", line_width=3, edge_color=\"black\")\n",
    "plotter.window_size = (400, 600)\n",
    "plotter.view_yz()\n",
    "plotter.enable_parallel_projection()\n",
    "plotter.show_axes()\n",
    "plotter.show_bounds(\n",
    "    show_xaxis=False,\n",
    "    show_yaxis=False,\n",
    "    show_zaxis=True,\n",
    "    show_xlabels=False,\n",
    "    show_ylabels=False,\n",
    "    show_zlabels=True,\n",
    "    n_zlabels=4,\n",
    "    # location='closest',\n",
    "    color='black',\n",
    "    bold=False,\n",
    "    font_size=12,\n",
    "    # grid='front',\n",
    "    ztitle=\"z  [m]\",\n",
    "    ticks='both',\n",
    "    minor_ticks=True,\n",
    "    bounds=[xmin, xmax, ymin + ypad, ymax, zmin-0.6, zmax-0.6],\n",
    "    axes_ranges=[xmin, xmax, ymin + ypad, ymax, zmin-0.6, zmax-0.6]\n",
    ")\n",
    "plotter.zoom_camera(1.30)\n",
    "plotter.show()"
   ]
  },
  {
   "cell_type": "code",
   "execution_count": 7,
   "metadata": {},
   "outputs": [
    {
     "name": "stdout",
     "output_type": "stream",
     "text": [
      "{'K_0': 0.0002067,\n",
      " 'Sw_r': 0.0312,\n",
      " 'Sw_s': 1.0,\n",
      " 'alpha': 2.79,\n",
      " 'nRef': 0.385,\n",
      " 'n_vangenucthen': 7.26}\n"
     ]
    }
   ],
   "source": [
    "soil_parameters_dirpath = Path(of_case.constant.path / \"soilParameters\")\n",
    "soil_parameters = {}\n",
    "\n",
    "for f in soil_parameters_dirpath.iterdir():\n",
    "    if not f.suffix:\n",
    "        dict_file = Dict_File(f)\n",
    "        s = dict_file[\"internalField\"]\n",
    "        soil_parameters[f.name] = to_numeric(s)\n",
    "\n",
    "pprint(soil_parameters)"
   ]
  },
  {
   "cell_type": "code",
   "execution_count": 8,
   "metadata": {},
   "outputs": [],
   "source": [
    "α = soil_parameters['alpha']\n",
    "n = soil_parameters['n_vangenucthen']\n",
    "m = 1 - 1 / n\n",
    "θs = soil_parameters['Sw_s'] * soil_parameters['nRef']\n",
    "θr = soil_parameters['Sw_r'] * soil_parameters['nRef']\n",
    "porosity = soil_parameters['nRef']\n",
    "Ks = soil_parameters['K_0']\n",
    "\n",
    "def vanGenuchten(h: np.array) -> np.array:\n",
    "    θe = np.where(h >= 0, 1.0, np.power(1 + np.power(α * h * np.sign(h), n), -m))\n",
    "    return θe\n",
    "\n",
    "\n",
    "def waterSaturation(h: np.array) -> np.array:\n",
    "    θe = vanGenuchten(h)\n",
    "    θ = θe * (θs - θr) + θr\n",
    "    return θ\n",
    "\n",
    "\n",
    "def mualemPermeability(h: np.array) -> np.array:\n",
    "    θe = vanGenuchten(h)\n",
    "    kr = np.sqrt(θe) * np.power(1 - np.power(1 - np.power(θe, 1 / m), m), 2)\n",
    "    return kr\n",
    "\n",
    "\n",
    "def capillarity(h) -> np.array:\n",
    "    x = np.where(\n",
    "        h >= 0,\n",
    "        0.0,\n",
    "        α\n",
    "        * m\n",
    "        * n\n",
    "        * np.power(α * h * np.sign(h), n - 1)\n",
    "        * np.power(1 + np.power(α * h * np.sign(h), n), -m - 1),\n",
    "    )\n",
    "    x *= θs - θr\n",
    "    return x"
   ]
  },
  {
   "cell_type": "code",
   "execution_count": 9,
   "metadata": {},
   "outputs": [],
   "source": [
    "h = np.concatenate([np.linspace(-10, -1.0e-3, 500), np.linspace(0, 0.5, 10)])\n",
    "θe = vanGenuchten(h)\n",
    "θ = waterSaturation(h)\n",
    "kr = mualemPermeability(h)\n",
    "Ch = capillarity(h)"
   ]
  },
  {
   "cell_type": "code",
   "execution_count": 10,
   "metadata": {},
   "outputs": [],
   "source": [
    "def theta2sw(theta: float) -> float:\n",
    "    return theta / porosity\n",
    "\n",
    "def sw2theta(sw: float) -> float:\n",
    "    return sw * porosity\n",
    "\n",
    "def cm_min2m_s(cm_per_min:float):\n",
    "    return cm_per_min / 100 / 60\n",
    "\n",
    "def m_s2cm_min(m_per_s:float):\n",
    "    return m_per_s * 100 * 60"
   ]
  },
  {
   "cell_type": "code",
   "execution_count": 11,
   "metadata": {},
   "outputs": [
    {
     "name": "stdout",
     "output_type": "stream",
     "text": [
      "m_s2cm_min(Ks) = 1.2402 cm/min\n"
     ]
    }
   ],
   "source": [
    "print(f\"{m_s2cm_min(Ks) = } cm/min\")"
   ]
  },
  {
   "cell_type": "code",
   "execution_count": 12,
   "metadata": {},
   "outputs": [],
   "source": [
    "from matplotlib.ticker import SymmetricalLogLocator, LogLocator\n",
    "import matplotlib as mpl"
   ]
  },
  {
   "cell_type": "code",
   "execution_count": 13,
   "metadata": {},
   "outputs": [
    {
     "data": {
      "image/png": "[encoded data removed]",
      "text/plain": [
       "<Figure size 700x350 with 2 Axes>"
      ]
     },
     "metadata": {
      "needs_background": "light"
     },
     "output_type": "display_data"
    }
   ],
   "source": [
    "with mpl.rc_context({'axes.labelsize':12}):\n",
    "    fig, axs = plt.subplots(1,2, figsize=[7, 3.5], sharey=True, gridspec_kw={'wspace':0.1})\n",
    "\n",
    "    linthersh = 0.1\n",
    "    ax = axs[0]\n",
    "    ax.axhspan(-linthersh, linthersh, alpha=0.02)\n",
    "\n",
    "    ax.axvline(x=θs, ls=\"dotted\", lw=1, c=\"darkorange\", label=rf\"$S_{{w,{{\\rm sat}}}}={theta2sw(θs):.1f}$\")\n",
    "    ax.axvline(x=θr, ls=\"dashdot\", lw=1, c=\"orange\", label=rf\"$S_{{w,{{\\rm res}}}}={theta2sw(θr):.3f}$\")\n",
    "    ax.plot(θ, h, label=r\"$S_w(h)$\", lw=3)\n",
    "    ax.xaxis.set_label_position('top') \n",
    "    ax.tick_params(top=True, labeltop=True, bottom=False, labelbottom=False)\n",
    "    ax.spines.top.set_visible(True)\n",
    "    ax.set_xlabel(R\"Water content  $\\theta$ [-]\")\n",
    "    ax.set_ylabel(\"Head \\t $h$ [m]\")\n",
    "    ax.set_ylim(-3, 0)\n",
    "    ax.set_yscale(\"symlog\", linthresh=linthersh, linscale=0.2)\n",
    "    secax = ax.secondary_xaxis('bottom', functions=(theta2sw, sw2theta))\n",
    "    secax.set_xlabel(\"Water saturation  $S_w$ [-]\")\n",
    "    secax.set_xlim(0, 1)\n",
    "\n",
    "    ax.tick_params(which='both', axis='y')\n",
    "    ax.yaxis.set_minor_locator(SymmetricalLogLocator(base=10, linthresh=linthersh, subs=[i for i in range(10)]))\n",
    "    ax.legend(prop={'size':10})\n",
    "\n",
    "    ax = axs[1]\n",
    "    ax.axvline(Ks, ls=\"dashed\", lw=1, c=\"red\", label=Rf\"$K_S = {m_s2cm_min(Ks):.2f}$ cm/min\")\n",
    "\n",
    "    ax.plot(kr * Ks, h, label=r\"$K(h)$\", lw=3, c=\"0.45\")\n",
    "    ax.set_xscale('log')\n",
    "    ax.set_xlabel('Hydraulic cond.  $K$')\n",
    "    ax.set_xlim(1e-18, 20*Ks)\n",
    "    ax.legend(prop={'size':10})\n",
    "    ax.text(1., 1.07,R\"[cm/min]\", ha='left', va='center', transform=ax.transAxes, clip_on=False, weight=100)\n",
    "    ax.text(1.05, -0.05,R\"[m/s]\", ha='left', va='center', transform=ax.transAxes, clip_on=False, weight=100)\n",
    "\n",
    "    secax = ax.secondary_xaxis('top', functions=(m_s2cm_min, cm_min2m_s))\n",
    "    secax.xaxis.set_minor_locator(LogLocator(base=10, subs ='all'))\n",
    "\n",
    "    axs[0].set_title('a', x=-0.2, y=1.1, weight=700)\n",
    "    axs[1].set_title('b', x=0, y=1.1, weight=700)\n",
    "\n",
    "    plt.savefig(\n",
    "        f\"plots/{NOTEBOOK_NAME.rpartition('/')[-1].removesuffix('.ipynb')}(water_content_curve).pdf\", \n",
    "        format=\"pdf\", bbox_inches='tight', pad_inches=0.05\n",
    "    )\n",
    "\n",
    "    plt.show()"
   ]
  },
  {
   "cell_type": "code",
   "execution_count": null,
   "metadata": {},
   "outputs": [],
   "source": []
  }
 ],
 "metadata": {
  "kernelspec": {
   "display_name": "wenv",
   "language": "python",
   "name": "python3"
  },
  "language_info": {
   "codemirror_mode": {
    "name": "ipython",
    "version": 3
   },
   "file_extension": ".py",
   "mimetype": "text/x-python",
   "name": "python",
   "nbconvert_exporter": "python",
   "pygments_lexer": "ipython3",
   "version": "3.11.9"
  }
 },
 "nbformat": 4,
 "nbformat_minor": 2
}
